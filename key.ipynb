{
 "cells": [
  {
   "cell_type": "code",
   "execution_count": 1,
   "id": "28c57396-3646-409f-8636-4da7e5fa7afd",
   "metadata": {},
   "outputs": [],
   "source": [
    "api_key = \"icATOFMMAO10UXV9yhMMW0SooEzkkKWt9yOAhGvN5TNsKGkaMiiLFV2jskxT0YJ0\"\n",
    "api_secret = \"OGxh3LYZrCv390HuLMkdmCAKcXFFZkQPfIuuxZGzTqylZfX6ejAIENGFZwUNMKjp\""
   ]
  },
  {
   "cell_type": "code",
   "execution_count": null,
   "id": "ac10c0bb-be55-4ac1-a645-60646798db8a",
   "metadata": {},
   "outputs": [],
   "source": []
  }
 ],
 "metadata": {
  "kernelspec": {
   "display_name": "Python 3 (ipykernel)",
   "language": "python",
   "name": "python3"
  },
  "language_info": {
   "codemirror_mode": {
    "name": "ipython",
    "version": 3
   },
   "file_extension": ".py",
   "mimetype": "text/x-python",
   "name": "python",
   "nbconvert_exporter": "python",
   "pygments_lexer": "ipython3",
   "version": "3.10.1"
  }
 },
 "nbformat": 4,
 "nbformat_minor": 5
}
